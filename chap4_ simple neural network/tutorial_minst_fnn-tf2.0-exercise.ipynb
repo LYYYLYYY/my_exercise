{
 "cells": [
  {
   "cell_type": "markdown",
   "metadata": {},
   "source": [
    "## 准备数据"
   ]
  },
  {
   "cell_type": "code",
   "execution_count": 1,
   "metadata": {},
   "outputs": [],
   "source": [
    "import os\n",
    "import numpy as np\n",
    "import tensorflow as tf\n",
    "from tensorflow import keras\n",
    "from tensorflow.keras import layers, optimizers, datasets\n",
    "\n",
    "os.environ['TF_CPP_MIN_LOG_LEVEL'] = '2'  # or any {'0', '1', '2'}\n",
    "\n",
    "def mnist_dataset():\n",
    "    (x, y), (x_test, y_test) = datasets.mnist.load_data()\n",
    "    #normalize\n",
    "    x = x/255.0\n",
    "    x_test = x_test/255.0\n",
    "    \n",
    "    return (x, y), (x_test, y_test)"
   ]
  },
  {
   "cell_type": "code",
   "execution_count": 2,
   "metadata": {},
   "outputs": [
    {
     "name": "stdout",
     "output_type": "stream",
     "text": [
      "[(1, 'a'), (2, 'b'), (3, 'c'), (4, 'd')]\n"
     ]
    }
   ],
   "source": [
    "print(list(zip([1, 2, 3, 4], ['a', 'b', 'c', 'd'])))"
   ]
  },
  {
   "cell_type": "markdown",
   "metadata": {},
   "source": [
    "## 建立模型"
   ]
  },
  {
   "cell_type": "code",
   "execution_count": 6,
   "metadata": {},
   "outputs": [],
   "source": [
    "class myModel:\n",
    "    def __init__(self):\n",
    "        ####################\n",
    "        '''声明模型对应的参数'''\n",
    "        ####################\n",
    "        self.W1 = tf.Variable(shape=[28*28, 100], dtype=tf.float32,\n",
    "                         initial_value=tf.random.uniform(shape=[28*28, 100],\n",
    "                                                         minval=-0.1, maxval=0.1))\n",
    "        self.b1 = tf.Variable(shape=[100], dtype=tf.float32, initial_value=tf.zeros(100))\n",
    "        self.W2 = tf.Variable(shape=[100, 10], dtype=tf.float32,\n",
    "                         initial_value=tf.random.uniform(shape=[100, 10],\n",
    "                                                         minval=-0.1, maxval=0.1))\n",
    "        self.b2 = tf.Variable(shape=[10], dtype=tf.float32, initial_value=tf.zeros(10))\n",
    "    def __call__(self, x):\n",
    "        ####################\n",
    "        '''实现模型函数体，返回未归一化的logits'''\n",
    "        ####################\n",
    "        flat_x = tf.reshape(x, shape=[-1, 28*28])\n",
    "        h1 = tf.tanh(tf.matmul(flat_x, self.W1) + self.b1)\n",
    "        logits = tf.matmul(h1, self.W2) + self.b2\n",
    "        return logits\n",
    "        \n",
    "model = myModel()\n",
    "\n",
    "optimizer = optimizers.Adam()"
   ]
  },
  {
   "cell_type": "markdown",
   "metadata": {},
   "source": [
    "## 计算 loss"
   ]
  },
  {
   "cell_type": "code",
   "execution_count": 7,
   "metadata": {},
   "outputs": [],
   "source": [
    "@tf.function\n",
    "def compute_loss(logits, labels):\n",
    "    return tf.reduce_mean(\n",
    "        tf.nn.sparse_softmax_cross_entropy_with_logits(\n",
    "            logits=logits, labels=labels))\n",
    "\n",
    "@tf.function\n",
    "def compute_accuracy(logits, labels):\n",
    "    predictions = tf.argmax(logits, axis=1)\n",
    "    return tf.reduce_mean(tf.cast(tf.equal(predictions, labels), tf.float32))\n",
    "\n",
    "@tf.function\n",
    "def train_one_step(model, optimizer, x, y):\n",
    "    with tf.GradientTape() as tape:\n",
    "        logits = model(x)\n",
    "        loss = compute_loss(logits, y)\n",
    "\n",
    "    # compute gradient\n",
    "    trainable_vars = [model.W1, model.W2, model.b1, model.b2]\n",
    "    grads = tape.gradient(loss, trainable_vars)\n",
    "    for g, v in zip(grads, trainable_vars):\n",
    "        v.assign_sub(0.01*g)\n",
    "\n",
    "    accuracy = compute_accuracy(logits, y)\n",
    "\n",
    "    # loss and accuracy is scalar tensor\n",
    "    return loss, accuracy\n",
    "\n",
    "@tf.function\n",
    "def test(model, x, y):\n",
    "    logits = model(x)\n",
    "    loss = compute_loss(logits, y)\n",
    "    accuracy = compute_accuracy(logits, y)\n",
    "    return loss, accuracy"
   ]
  },
  {
   "cell_type": "markdown",
   "metadata": {},
   "source": [
    "## 实际训练"
   ]
  },
  {
   "cell_type": "code",
   "execution_count": 13,
   "metadata": {},
   "outputs": [
    {
     "name": "stdout",
     "output_type": "stream",
     "text": [
      "epoch 0 : loss 1.4100847 ; accuracy 0.73366666\n",
      "epoch 1 : loss 1.407141 ; accuracy 0.7341833\n",
      "epoch 2 : loss 1.4042068 ; accuracy 0.73461664\n",
      "epoch 3 : loss 1.4012821 ; accuracy 0.73505\n",
      "epoch 4 : loss 1.3983669 ; accuracy 0.7354\n",
      "epoch 5 : loss 1.3954613 ; accuracy 0.73571664\n",
      "epoch 6 : loss 1.3925654 ; accuracy 0.73618335\n",
      "epoch 7 : loss 1.389679 ; accuracy 0.73648334\n",
      "epoch 8 : loss 1.3868021 ; accuracy 0.73675\n",
      "epoch 9 : loss 1.3839346 ; accuracy 0.73726666\n",
      "epoch 10 : loss 1.3810769 ; accuracy 0.73763335\n",
      "epoch 11 : loss 1.3782287 ; accuracy 0.73793334\n",
      "epoch 12 : loss 1.3753899 ; accuracy 0.73826665\n",
      "epoch 13 : loss 1.372561 ; accuracy 0.73873335\n",
      "epoch 14 : loss 1.3697414 ; accuracy 0.73906666\n",
      "epoch 15 : loss 1.3669316 ; accuracy 0.7395333\n",
      "epoch 16 : loss 1.364131 ; accuracy 0.74006665\n",
      "epoch 17 : loss 1.36134 ; accuracy 0.74048334\n",
      "epoch 18 : loss 1.3585588 ; accuracy 0.74085\n",
      "epoch 19 : loss 1.3557869 ; accuracy 0.7412\n",
      "epoch 20 : loss 1.3530247 ; accuracy 0.74151665\n",
      "epoch 21 : loss 1.3502722 ; accuracy 0.74185\n",
      "epoch 22 : loss 1.3475287 ; accuracy 0.7421167\n",
      "epoch 23 : loss 1.3447951 ; accuracy 0.74256665\n",
      "epoch 24 : loss 1.3420708 ; accuracy 0.74293333\n",
      "epoch 25 : loss 1.3393563 ; accuracy 0.74338335\n",
      "epoch 26 : loss 1.336651 ; accuracy 0.74371666\n",
      "epoch 27 : loss 1.3339552 ; accuracy 0.7439833\n",
      "epoch 28 : loss 1.331269 ; accuracy 0.7442667\n",
      "epoch 29 : loss 1.3285922 ; accuracy 0.7446833\n",
      "epoch 30 : loss 1.3259246 ; accuracy 0.74513334\n",
      "epoch 31 : loss 1.3232666 ; accuracy 0.7455\n",
      "epoch 32 : loss 1.3206183 ; accuracy 0.7457333\n",
      "epoch 33 : loss 1.3179792 ; accuracy 0.7461\n",
      "epoch 34 : loss 1.3153495 ; accuracy 0.74655\n",
      "epoch 35 : loss 1.3127291 ; accuracy 0.74686664\n",
      "epoch 36 : loss 1.3101182 ; accuracy 0.7473\n",
      "epoch 37 : loss 1.3075167 ; accuracy 0.7476\n",
      "epoch 38 : loss 1.3049245 ; accuracy 0.74801666\n",
      "epoch 39 : loss 1.3023416 ; accuracy 0.7484667\n",
      "epoch 40 : loss 1.299768 ; accuracy 0.74883336\n",
      "epoch 41 : loss 1.2972037 ; accuracy 0.7492667\n",
      "epoch 42 : loss 1.2946485 ; accuracy 0.74943334\n",
      "epoch 43 : loss 1.2921028 ; accuracy 0.74986666\n",
      "epoch 44 : loss 1.2895664 ; accuracy 0.7502\n",
      "epoch 45 : loss 1.287039 ; accuracy 0.75058335\n",
      "epoch 46 : loss 1.2845211 ; accuracy 0.7510333\n",
      "epoch 47 : loss 1.2820122 ; accuracy 0.7514\n",
      "epoch 48 : loss 1.2795125 ; accuracy 0.7518167\n",
      "epoch 49 : loss 1.2770219 ; accuracy 0.75221664\n",
      "test loss 1.2571635 ; accuracy 0.7663\n"
     ]
    }
   ],
   "source": [
    "train_data, test_data = mnist_dataset()\n",
    "for epoch in range(50):\n",
    "    loss, accuracy = train_one_step(model, optimizer, \n",
    "                                    tf.constant(train_data[0], dtype=tf.float32), \n",
    "                                    tf.constant(train_data[1], dtype=tf.int64))\n",
    "    print('epoch', epoch, ': loss', loss.numpy(), '; accuracy', accuracy.numpy())\n",
    "loss, accuracy = test(model, \n",
    "                      tf.constant(test_data[0], dtype=tf.float32), \n",
    "                      tf.constant(test_data[1], dtype=tf.int64))\n",
    "\n",
    "print('test loss', loss.numpy(), '; accuracy', accuracy.numpy())"
   ]
  }
 ],
 "metadata": {
  "kernelspec": {
   "display_name": "Python 3",
   "language": "python",
   "name": "python3"
  },
  "language_info": {
   "codemirror_mode": {
    "name": "ipython",
    "version": 3
   },
   "file_extension": ".py",
   "mimetype": "text/x-python",
   "name": "python",
   "nbconvert_exporter": "python",
   "pygments_lexer": "ipython3",
   "version": "3.9.18"
  }
 },
 "nbformat": 4,
 "nbformat_minor": 2
}
